


# Dependencies and Setup
import matplotlib.pyplot as plt
import pandas as pd
import numpy as np
import requests
import time
from scipy.stats import linregress

# Impor the OpenWeatherMap API key
from api_keys import weather_api_key

# Import citipy to determine the cities based on latitude and longitude
from citipy import citipy





# Empty list for holding the latitude and longitude combinations
lat_lngs = []

# Empty list for holding the cities names
cities = []

# Range of latitudes and longitudes
lat_range = (-90, 90)
lng_range = (-180, 180)

# Create a set of random lat and lng combinations
lats = np.random.uniform(lat_range[0], lat_range[1], size=1500)
lngs = np.random.uniform(lng_range[0], lng_range[1], size=1500)
lat_lngs = zip(lats, lngs)

# Identify nearest city for each lat, lng combination
for lat_lng in lat_lngs:
    city = citipy.nearest_city(lat_lng[0], lat_lng[1]).city_name
    
    # If the city is unique, then add it to a our cities list
    if city not in cities:
        cities.append(city)

# Print the city count to confirm sufficient count
print(f"Number of cities in the list: {len(cities)}")








# Set the API base URL
url = 'http://api.openweathermap.org/data/2.5/weather?'

# Define an empty list to fetch the weather data for each city
city_data = []

# Print to logger
print("Beginning Data Retrieval     ")
print("-----------------------------")

# Create counters
record_count = 1
set_count = 1

# Loop through all the cities in our list to fetch weather data
for i, city in enumerate(cities):
        
    # Group cities in sets of 50 for logging purposes
    if (i % 50 == 0 and i >= 50):
        set_count += 1
        record_count = 0

    # Create endpoint URL with each city
    city_url = url + "q=" + city + "&appid=" + weather_api_key
    
    # Log the url, record, and set numbers
    print("Processing Record %s of Set %s | %s" % (record_count, set_count, city))

    # Add 1 to the record count
    record_count += 1

    # Run an API request for each of the cities
    try:
        # Parse the JSON and retrieve data
        response = requests.get(city_url)
        city_weather = response.json()

        # Parse out latitude, longitude, max temp, humidity, cloudiness, wind speed, country, and date
        city_lat = city_weather["coord"]["lat"]
        city_lng = city_weather["coord"]["lon"]
        city_max_temp = city_weather["main"]["temp_max"]
        city_humidity = city_weather["main"]["humidity"]
        city_clouds = city_weather["clouds"]["all"]
        city_wind = city_weather["wind"]["speed"]
        city_country = city_weather["sys"]["country"]
        city_date = city_weather["dt"]
        
        # Append the City information into city_data list
        city_data.append({"City": city, 
                          "Lat": city_lat, 
                          "Lng": city_lng, 
                          "Max Temp": city_max_temp,
                          "Humidity": city_humidity,
                          "Cloudiness": city_clouds,
                          "Wind Speed": city_wind,
                          "Country": city_country,
                          "Date": city_date})

    # If an error is experienced, skip the city
    except:
        print("City not found. Skipping...")
        pass
              
# Indicate that Data Loading is complete 
print("-----------------------------")
print("Data Retrieval Complete      ")
print("-----------------------------")


# Convert the cities weather data into a Pandas DataFrame
city_data_df = pd.DataFrame(city_data)

# Show Record Count
city_data_df.count()


# Display sample data
city_data_df.head()


# Export the City_Data into a csv
city_data_df.to_csv("output_data/cities.csv", index_label="City_ID")


# Read saved data
city_data_df = pd.read_csv("output_data/cities.csv", index_col="City_ID")

# Display sample data
city_data_df.head()





# Build scatter plot for latitude vs. temperature
plt.scatter(city_data_df["Lat"], city_data_df["Max Temp"], edgecolors="black")

# Incorporate the other graph properties
plt.title("City Max Latitude vs. Temperature (2022-10-18)")
plt.xlabel("Latitude")
plt.ylabel("Max Temperature (C)")
plt.grid(True)

# Save the figure
plt.savefig("output_data/Fig1.png")

# Show plot
plt.show()





# Build the scatter plots for latitude vs. humidity
plt.scatter(city_data_df["Lat"], city_data_df["Humidity"], edgecolors="black")

# Incorporate the other graph properties
plt.title("City Latitude vs. Humidity (2022-10-18)")
plt.xlabel("Latitude")
plt.ylabel("Humidity (%)")
plt.grid(True)

# Save the figure
plt.savefig("output_data/Fig2.png")

# Show plot
plt.show()





# Build the scatter plots for latitude vs. cloudiness
plt.scatter(city_data_df["Lat"], city_data_df["Cloudiness"], edgecolors="black")

# Incorporate the other graph properties
plt.title("City Latitude vs. Cloudiness (2022-10-18)")
plt.xlabel("Latitude")
plt.ylabel("Cloudiness (%)")
plt.grid(True)

# Save the figure
plt.savefig("output_data/Fig3.png")

# Show plot
plt.show()





# Build the scatter plots for latitude vs. wind speed
plt.scatter(city_data_df["Lat"], city_data_df["Wind Speed"], edgecolors="black")

# Incorporate the other graph properties
plt.title("City Latitude vs. Wind Speed (2022-10-18)")
plt.xlabel("Latitude")
plt.ylabel("Wind Speed (m/s)")
plt.grid(True)

# Save the figure
plt.savefig("output_data/Fig4.png")

# Show plot
plt.show()





# Define a function to create Linear Regression plots


# Create a DataFrame with the Northern Hemisphere data (Latitude >= 0)
northern_hemi_df = city_data_df[city_data_df["Lat"] >= 0]

# Display sample data
northern_hemi_df.head()


# Create a DataFrame with the Southern Hemisphere data (Latitude < 0)
southern_hemi_df = city_data_df[city_data_df["Lat"] < 0]

# Display sample data
southern_hemi_df.head()





# Linear regression on Northern Hemisphere

# Define a function to create Linear Regression plots
def perform_linear_regression(x_values, y_values, x_label, y_label):
    
    # Perform linear regression
    slope, intercept, r_value, p_value, std_err = linregress(x_values, y_values)

    # Calculate the regression line and line equation
    regression_line = slope * x_values + intercept
    line_eq = "y = " + str(round(slope,2)) + "x + " + str(round(intercept,2))
    
    # Find suitable coordinates for annotation
    x_annotation = x_values.min() + (x_values.max() - x_values.min()) * 0.1
    y_annotation = y_values.max() - (y_values.max() - y_values.min()) * 0.1

    # Create scatter plot
    plt.scatter(x_values, y_values,  marker='o')
    plt.annotate(line_eq,(x_annotation, y_annotation), fontsize=15, color="red")

    # Plot the regression line
    plt.plot(x_values, regression_line, color = "red")

    # Create x and y label
    plt.xlabel(x_label)
    plt.ylabel(y_label)

    # Show plot and print the r_value
    print(f"The r-value is: {r_value}")
    plt.show()

# Perform linear regression on Northern Hemisphere
perform_linear_regression(northern_hemi_df["Lat"], northern_hemi_df["Max Temp"], "Latitude", "Max Temp")



# Linear regression on Southern Hemisphere

# Define a function to create Linear Regression plots
def perform_linear_regression(x_values, y_values, x_label, y_label):
    
    # Perform linear regression
    slope, intercept, r_value, p_value, std_err = linregress(x_values, y_values)

    # Calculate the regression line and line equation
    regression_line = slope * x_values + intercept
    line_eq = "y = " + str(round(slope, 2)) + "x + " + str(round(intercept, 2))

    # Create scatter plot
    plt.scatter(x_values, y_values, marker='o')
    
    # Find suitable coordinates for annotation
    x_annotation = x_values.min() + (x_values.max() - x_values.min()) * 0.1
    y_annotation = y_values.max() - (y_values.max() - y_values.min()) * 0.1

    # Plot the regression line
    plt.plot(x_values, regression_line, color="red")

    # Annotate the line equation
    plt.annotate(line_eq,(x_annotation, y_annotation), fontsize=15, color="red")

    # Create x and y label
    plt.xlabel(x_label)
    plt.ylabel(y_label)

    # Show plot and print the r_value
    print(f"The r-value is: {r_value}")
    plt.show()

# Perform linear regression on Southern Hemisphere
perform_linear_regression(southern_hemi_df["Lat"], southern_hemi_df["Max Temp"], "Latitude", "Max Temp")








# Northern Hemisphere

# Define a function to create Linear Regression plots
def perform_linear_regression(x_values, y_values, x_label, y_label):
    
    # Perform linear regression
    slope, intercept, r_value, p_value, std_err = linregress(x_values, y_values)

    # Calculate the regression line and line equation
    regression_line = slope * x_values + intercept
    line_eq = "y = " + str(round(slope, 2)) + "x + " + str(round(intercept, 2))

    # Create scatter plot
    plt.scatter(x_values, y_values, marker='o')
    
    # Find suitable coordinates for annotation in Northern Hemisphere
    x_annotation = x_values.min() + (x_values.max() - x_values.min()) * 0.1
    y_annotation = y_values.min() + (y_values.max() - y_values.min()) * 0.9

    # Plot the regression line
    plt.plot(x_values, regression_line, color="red")

    # Annotate the line equation
    plt.annotate(line_eq, (x_annotation, y_annotation), fontsize=15, color="red")

    # Create x and y label
    plt.xlabel(x_label)
    plt.ylabel(y_label)

    # Show plot and print the r_value
    print(f"The r-value is: {r_value}")
    plt.show()

# Perform linear regression on Northern Hemisphere 
perform_linear_regression(northern_hemi_df["Lat"], northern_hemi_df["Humidity"], "Latitude", "Humidity")


# Southern Hemisphere


# Define a function to create Linear Regression plots
def perform_linear_regression(x_values, y_values, x_label, y_label):
    
    # Perform linear regression
    slope, intercept, r_value, p_value, std_err = linregress(x_values, y_values)

    # Calculate the regression line and line equation
    regression_line = slope * x_values + intercept
    line_eq = "y = " + str(round(slope, 2)) + "x + " + str(round(intercept, 2))

    # Create scatter plot
    plt.scatter(x_values, y_values, marker='o')
    
    # Find suitable coordinates for annotation 
    x_annotation = x_values.min() + (x_values.max() - x_values.min()) * 0.1
    y_annotation = y_values.min() + (y_values.max() - y_values.min()) * 0.9

    # Plot the regression line
    plt.plot(x_values, regression_line, color="red")

    # Annotate the line equation
    plt.annotate(line_eq, (x_annotation, y_annotation), fontsize=15, color="red")

    # Create x and y label
    plt.xlabel(x_label)
    plt.ylabel(y_label)

    # Show plot and print the r_value
    print(f"The r-value is: {r_value}")
    plt.show()

# Perform linear regression on Southern Hemisphere 
perform_linear_regression(southern_hemi_df["Lat"], southern_hemi_df["Humidity"], "Latitude", "Humidity")








# Northern Hemisphere


# Define a function to create Linear Regression plots
def perform_linear_regression(x_values, y_values, x_label, y_label):
    
    # Perform linear regression
    slope, intercept, r_value, p_value, std_err = linregress(x_values, y_values)

    # Calculate the regression line and line equation
    regression_line = slope * x_values + intercept
    line_eq = "y = " + str(round(slope, 2)) + "x + " + str(round(intercept, 2))

    # Create scatter plot
    plt.scatter(x_values, y_values, marker='o')
    
    # Find suitable coordinates for annotation 
    x_annotation = x_values.min() + (x_values.max() - x_values.min()) * 0.1
    y_annotation = y_values.min() + (y_values.max() - y_values.min()) * 0.9

    # Plot the regression line
    plt.plot(x_values, regression_line, color="red")

    # Annotate the line equation
    plt.annotate(line_eq, (x_annotation, y_annotation), fontsize=15, color="red")

    # Create x and y label
    plt.xlabel(x_label)
    plt.ylabel(y_label)

    # Show plot and print the r_value
    print(f"The r-value is: {r_value}")
    plt.show()

# Perform linear regression on Northern Hemisphere
perform_linear_regression(northern_hemi_df["Lat"], northern_hemi_df["Cloudiness"], "Latitude", "Cloudiness")


# Southern Hemisphere

# Define a function to create Linear Regression plots
def perform_linear_regression(x_values, y_values, x_label, y_label):
    
    # Perform linear regression
    slope, intercept, r_value, p_value, std_err = linregress(x_values, y_values)

    # Calculate the regression line and line equation
    regression_line = slope * x_values + intercept
    line_eq = "y = " + str(round(slope, 2)) + "x + " + str(round(intercept, 2))

    # Create scatter plot
    plt.scatter(x_values, y_values, marker='o')
    
    # Find suitable coordinates for annotation
    x_annotation = x_values.min() + (x_values.max() - x_values.min()) * 0.1
    y_annotation = y_values.min() + (y_values.max() - y_values.min()) * 0.9

    # Plot the regression line
    plt.plot(x_values, regression_line, color="red")

    # Annotate the line equation
    plt.annotate(line_eq, (x_annotation, y_annotation), fontsize=15, color="red")

    # Create x and y label
    plt.xlabel(x_label)
    plt.ylabel(y_label)

    # Show plot and print the r_value
    print(f"The r-value is: {r_value}")
    plt.show()

# Perform linear regression on Southern Hemisphere
perform_linear_regression(southern_hemi_df["Lat"], southern_hemi_df["Cloudiness"], "Latitude", "Cloudiness")








# Northern Hemisphere

# Define a function to create Linear Regression plots
def perform_linear_regression(x_values, y_values, x_label, y_label):
    
    # Perform linear regression
    slope, intercept, r_value, p_value, std_err = linregress(x_values, y_values)

    # Calculate the regression line and line equation
    regression_line = slope * x_values + intercept
    line_eq = "y = " + str(round(slope, 2)) + "x + " + str(round(intercept, 2))

    # Create scatter plot
    plt.scatter(x_values, y_values, marker='o')
    
    # Find suitable coordinates for annotation
    x_annotation = x_values.min() + (x_values.max() - x_values.min()) * 0.1
    y_annotation = y_values.min() + (y_values.max() - y_values.min()) * 0.9

    # Plot the regression line
    plt.plot(x_values, regression_line, color="red")

    # Annotate the line equation
    plt.annotate(line_eq, (x_annotation, y_annotation), fontsize=15, color="red")

    # Create x and y label
    plt.xlabel(x_label)
    plt.ylabel(y_label)

    # Show plot and print the r_value
    print(f"The r-value is: {r_value}")
    plt.show()

# Perform linear regression on Northern Hemisphere
perform_linear_regression(northern_hemi_df["Lat"], northern_hemi_df["Wind Speed"], "Latitude", "Wind Speed")


# Southern Hemisphere

# Define a function to create Linear Regression plots
def perform_linear_regression(x_values, y_values, x_label, y_label):
    
    # Perform linear regression
    slope, intercept, r_value, p_value, std_err = linregress(x_values, y_values)

    # Calculate the regression line and line equation
    regression_line = slope * x_values + intercept
    line_eq = "y = " + str(round(slope, 2)) + "x + " + str(round(intercept, 2))

    # Create scatter plot
    plt.scatter(x_values, y_values, marker='o')
    
    # Find suitable coordinates for annotation
    x_annotation = x_values.min() + (x_values.max() - x_values.min()) * 0.1
    y_annotation = y_values.min() + (y_values.max() - y_values.min()) * 0.9

    # Plot the regression line
    plt.plot(x_values, regression_line, color="red")

    # Annotate the line equation
    plt.annotate(line_eq, (x_annotation, y_annotation), fontsize=15, color="red")

    # Create x and y label
    plt.xlabel(x_label)
    plt.ylabel(y_label)

    # Show plot and print the r_value
    print(f"The r-value is: {r_value}")
    plt.show()

# Perform linear regression on Southern Hemisphere
perform_linear_regression(southern_hemi_df["Lat"], southern_hemi_df["Wind Speed"], "Latitude", "Wind Speed")






